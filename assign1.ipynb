{
 "cells": [
  {
   "cell_type": "code",
   "execution_count": 1,
   "id": "4450319c-4c7d-42ff-b1a4-56cdbbf784e1",
   "metadata": {},
   "outputs": [],
   "source": [
    "#q1\n",
    "#create one variable contain various types of data"
   ]
  },
  {
   "cell_type": "code",
   "execution_count": 2,
   "id": "7c6978ca-000d-41cb-a7ce-4a9d60e98782",
   "metadata": {},
   "outputs": [],
   "source": [
    "a=\"this is my first assignment\""
   ]
  },
  {
   "cell_type": "code",
   "execution_count": 3,
   "id": "120bbe92-1f00-4380-9773-126db5e56986",
   "metadata": {},
   "outputs": [
    {
     "data": {
      "text/plain": [
       "'this is my first assignment'"
      ]
     },
     "execution_count": 3,
     "metadata": {},
     "output_type": "execute_result"
    }
   ],
   "source": [
    "a"
   ]
  },
  {
   "cell_type": "code",
   "execution_count": 4,
   "id": "7e4bd523-2c8f-4a98-a00a-5a87949a4079",
   "metadata": {},
   "outputs": [],
   "source": [
    "a=[1,2,\"divya\",45.67,6+7j,34]"
   ]
  },
  {
   "cell_type": "code",
   "execution_count": 5,
   "id": "4217756d-f2b6-4aa8-b441-81b94e77ce1a",
   "metadata": {},
   "outputs": [
    {
     "data": {
      "text/plain": [
       "[1, 2, 'divya', 45.67, (6+7j), 34]"
      ]
     },
     "execution_count": 5,
     "metadata": {},
     "output_type": "execute_result"
    }
   ],
   "source": [
    "a"
   ]
  },
  {
   "cell_type": "code",
   "execution_count": 6,
   "id": "582649c8-22a8-434e-9efa-10b444c33fd3",
   "metadata": {},
   "outputs": [],
   "source": [
    "a=(1,2,45,67)\n"
   ]
  },
  {
   "cell_type": "code",
   "execution_count": 7,
   "id": "8f022791-7a4d-4c14-8d9d-ee3edbe71d31",
   "metadata": {},
   "outputs": [
    {
     "data": {
      "text/plain": [
       "(1, 2, 45, 67)"
      ]
     },
     "execution_count": 7,
     "metadata": {},
     "output_type": "execute_result"
    }
   ],
   "source": [
    "a"
   ]
  },
  {
   "cell_type": "code",
   "execution_count": 8,
   "id": "af5631f3-66a6-4c6c-9153-b7aaa6e261e7",
   "metadata": {},
   "outputs": [],
   "source": [
    "a=12.45"
   ]
  },
  {
   "cell_type": "code",
   "execution_count": 9,
   "id": "8c233967-390c-4d7c-a7f5-09993a740cd4",
   "metadata": {},
   "outputs": [
    {
     "data": {
      "text/plain": [
       "12.45"
      ]
     },
     "execution_count": 9,
     "metadata": {},
     "output_type": "execute_result"
    }
   ],
   "source": [
    "a"
   ]
  },
  {
   "cell_type": "code",
   "execution_count": 10,
   "id": "a2f84fbb-520f-487b-ba75-4c88f285e75a",
   "metadata": {},
   "outputs": [
    {
     "data": {
      "text/plain": [
       "float"
      ]
     },
     "execution_count": 10,
     "metadata": {},
     "output_type": "execute_result"
    }
   ],
   "source": [
    "type(a)"
   ]
  },
  {
   "cell_type": "code",
   "execution_count": 11,
   "id": "7d57ff12-6417-47ab-b507-09f3c5c68172",
   "metadata": {},
   "outputs": [],
   "source": [
    "#variable with containing combine data types.....list\n"
   ]
  },
  {
   "cell_type": "code",
   "execution_count": 12,
   "id": "be7ba477-fda2-4ed6-8a1d-383945d77e2e",
   "metadata": {},
   "outputs": [],
   "source": [
    "var=[1,23,45,\"diya\",45.567,[23,45],(23,56,78)]"
   ]
  },
  {
   "cell_type": "code",
   "execution_count": 13,
   "id": "85ca7242-5a99-4d47-aec2-5c6af0596b29",
   "metadata": {},
   "outputs": [
    {
     "data": {
      "text/plain": [
       "[1, 23, 45, 'diya', 45.567, [23, 45], (23, 56, 78)]"
      ]
     },
     "execution_count": 13,
     "metadata": {},
     "output_type": "execute_result"
    }
   ],
   "source": [
    "var"
   ]
  },
  {
   "cell_type": "code",
   "execution_count": null,
   "id": "060bfba3-7dd7-4693-8200-7cd3e784452f",
   "metadata": {},
   "outputs": [],
   "source": [
    "\n",
    "\n"
   ]
  },
  {
   "cell_type": "code",
   "execution_count": null,
   "id": "a69c9a98-5471-48ca-9cf2-b4964404b66d",
   "metadata": {},
   "outputs": [],
   "source": [
    "\n",
    "# Q2. Given are some following variables containing data:\n",
    "# (i) var1 = ‘ ‘\n",
    "# (ii) var2 = ‘[ DS , ML , Python]’\n",
    "# (iii) var3 = [ ‘DS’ , ’ML’ , ‘Python’ ]\n",
    "# (iv) var4 = 1.\n",
    "# What will be the data type of the above given variable."
   ]
  },
  {
   "cell_type": "code",
   "execution_count": 14,
   "id": "8762ec04-2126-4c0b-b20e-fd31eade3097",
   "metadata": {},
   "outputs": [
    {
     "data": {
      "text/plain": [
       "str"
      ]
     },
     "execution_count": 14,
     "metadata": {},
     "output_type": "execute_result"
    }
   ],
   "source": [
    "var1=''\n",
    "type(var1)"
   ]
  },
  {
   "cell_type": "code",
   "execution_count": 15,
   "id": "ae6296b3-0acd-4768-90ea-f8e30c81c287",
   "metadata": {},
   "outputs": [
    {
     "data": {
      "text/plain": [
       "str"
      ]
     },
     "execution_count": 15,
     "metadata": {},
     "output_type": "execute_result"
    }
   ],
   "source": [
    "var2='[DS,ML,PYTHON]'\n",
    "type(var2)"
   ]
  },
  {
   "cell_type": "code",
   "execution_count": 16,
   "id": "544e53a7-8055-48bb-bb95-47e06a878bca",
   "metadata": {},
   "outputs": [
    {
     "data": {
      "text/plain": [
       "list"
      ]
     },
     "execution_count": 16,
     "metadata": {},
     "output_type": "execute_result"
    }
   ],
   "source": [
    "var3=['DS','ML','PYTHON']\n",
    "type(var3)"
   ]
  },
  {
   "cell_type": "code",
   "execution_count": 17,
   "id": "0fd7a1e4-6dcd-4156-a053-aa0b8e98a261",
   "metadata": {},
   "outputs": [
    {
     "data": {
      "text/plain": [
       "int"
      ]
     },
     "execution_count": 17,
     "metadata": {},
     "output_type": "execute_result"
    }
   ],
   "source": [
    "var4=1\n",
    "type(var4)"
   ]
  },
  {
   "cell_type": "code",
   "execution_count": null,
   "id": "0685062b-22f9-4877-a321-3485ab6428f4",
   "metadata": {},
   "outputs": [],
   "source": []
  },
  {
   "cell_type": "code",
   "execution_count": 18,
   "id": "fc2eae78-9b86-4a36-9d4f-da799ce81c1c",
   "metadata": {},
   "outputs": [],
   "source": [
    "\n",
    "# Q3. Explain the use of the following operators using an example:\n",
    "# (i) /\n",
    "# (ii) %\n",
    "# (iii) //\n",
    "# (iv) **"
   ]
  },
  {
   "cell_type": "code",
   "execution_count": null,
   "id": "6666d1cd-f6d8-4fe6-a969-170e33420748",
   "metadata": {},
   "outputs": [],
   "source": [
    "/ is a division operator\n",
    "it is basically use for division \n",
    "it is also called float division \n",
    "ex: x/y\n"
   ]
  },
  {
   "cell_type": "code",
   "execution_count": 21,
   "id": "bb9ad09a-fb95-404a-b613-9e4c28e10768",
   "metadata": {},
   "outputs": [
    {
     "data": {
      "text/plain": [
       "1.0"
      ]
     },
     "execution_count": 21,
     "metadata": {},
     "output_type": "execute_result"
    }
   ],
   "source": [
    "5/5"
   ]
  },
  {
   "cell_type": "code",
   "execution_count": 22,
   "id": "49627ee8-e3e3-43db-8efb-18643a061daa",
   "metadata": {},
   "outputs": [
    {
     "data": {
      "text/plain": [
       "5.0"
      ]
     },
     "execution_count": 22,
     "metadata": {},
     "output_type": "execute_result"
    }
   ],
   "source": [
    "10/2"
   ]
  },
  {
   "cell_type": "code",
   "execution_count": 23,
   "id": "addc0c8a-b355-410d-9c4d-1b6223aa68a5",
   "metadata": {},
   "outputs": [
    {
     "data": {
      "text/plain": [
       "2.0"
      ]
     },
     "execution_count": 23,
     "metadata": {},
     "output_type": "execute_result"
    }
   ],
   "source": [
    "10/5"
   ]
  },
  {
   "cell_type": "code",
   "execution_count": null,
   "id": "277099fd-dd8d-412c-8b3e-8e21f54b12ad",
   "metadata": {},
   "outputs": [],
   "source": [
    "% is a modulus operator\n",
    "it returns only the remainder"
   ]
  },
  {
   "cell_type": "code",
   "execution_count": 24,
   "id": "a0523f73-6f72-4123-b14e-42d2ab9a20d6",
   "metadata": {},
   "outputs": [
    {
     "data": {
      "text/plain": [
       "1"
      ]
     },
     "execution_count": 24,
     "metadata": {},
     "output_type": "execute_result"
    }
   ],
   "source": [
    "a=13\n",
    "b=4\n",
    "a%b"
   ]
  },
  {
   "cell_type": "code",
   "execution_count": null,
   "id": "56330c4a-a9a2-411d-b089-ff614a14a103",
   "metadata": {},
   "outputs": [],
   "source": [
    "// is a floor division operator\n"
   ]
  },
  {
   "cell_type": "code",
   "execution_count": 25,
   "id": "935a7f3d-8e99-4999-b770-b74add90269a",
   "metadata": {},
   "outputs": [
    {
     "data": {
      "text/plain": [
       "3"
      ]
     },
     "execution_count": 25,
     "metadata": {},
     "output_type": "execute_result"
    }
   ],
   "source": [
    "10//3"
   ]
  },
  {
   "cell_type": "code",
   "execution_count": 26,
   "id": "27150de5-4b80-4c50-bac1-7973f408dfad",
   "metadata": {},
   "outputs": [
    {
     "data": {
      "text/plain": [
       "3"
      ]
     },
     "execution_count": 26,
     "metadata": {},
     "output_type": "execute_result"
    }
   ],
   "source": [
    "13//4"
   ]
  },
  {
   "cell_type": "code",
   "execution_count": null,
   "id": "d94de828-7c87-4dfb-a868-abb81eb512fe",
   "metadata": {},
   "outputs": [],
   "source": [
    "** is a power operator\n",
    "ex:x**y"
   ]
  },
  {
   "cell_type": "code",
   "execution_count": 27,
   "id": "f2cbc0a7-c436-42fc-a419-bfa08968b6c9",
   "metadata": {},
   "outputs": [
    {
     "data": {
      "text/plain": [
       "16"
      ]
     },
     "execution_count": 27,
     "metadata": {},
     "output_type": "execute_result"
    }
   ],
   "source": [
    "a=4\n",
    "b=2\n",
    "a**b"
   ]
  },
  {
   "cell_type": "code",
   "execution_count": null,
   "id": "7ebc3633-1741-4fb8-8479-797306cb2df0",
   "metadata": {},
   "outputs": [],
   "source": []
  },
  {
   "cell_type": "code",
   "execution_count": 28,
   "id": "a586ce34-7c5e-4f7e-81a0-47722a975041",
   "metadata": {},
   "outputs": [],
   "source": [
    "#q4Create a list of length 10 of your choice containing multiple types of data. Using for loop print the\n",
    "# element and its data type."
   ]
  },
  {
   "cell_type": "code",
   "execution_count": 29,
   "id": "b44aeb75-55ef-4dd6-bb5d-e6c4b001597c",
   "metadata": {},
   "outputs": [],
   "source": [
    "list=[12,23,\"diya\",34,34.67,6+7j,[12,56,7],56.6,\"pwskills\",23]\n"
   ]
  },
  {
   "cell_type": "code",
   "execution_count": 30,
   "id": "e38a4f7c-5e55-48ae-9783-60c5890dddcc",
   "metadata": {},
   "outputs": [
    {
     "data": {
      "text/plain": [
       "[12, 23, 'diya', 34, 34.67, (6+7j), [12, 56, 7], 56.6, 'pwskills', 23]"
      ]
     },
     "execution_count": 30,
     "metadata": {},
     "output_type": "execute_result"
    }
   ],
   "source": [
    "list"
   ]
  },
  {
   "cell_type": "code",
   "execution_count": 31,
   "id": "69ebf844-e7d9-4b94-a8f3-811e1a6b169b",
   "metadata": {},
   "outputs": [
    {
     "data": {
      "text/plain": [
       "10"
      ]
     },
     "execution_count": 31,
     "metadata": {},
     "output_type": "execute_result"
    }
   ],
   "source": [
    "len(list)"
   ]
  },
  {
   "cell_type": "code",
   "execution_count": 32,
   "id": "87deee27-4d18-4d6a-9d90-dd8b296568c6",
   "metadata": {},
   "outputs": [
    {
     "name": "stdout",
     "output_type": "stream",
     "text": [
      "<class 'int'>\n",
      "<class 'int'>\n",
      "<class 'str'>\n",
      "<class 'int'>\n",
      "<class 'float'>\n",
      "<class 'complex'>\n",
      "<class 'list'>\n",
      "<class 'float'>\n",
      "<class 'str'>\n",
      "<class 'int'>\n"
     ]
    }
   ],
   "source": [
    "for i in list:\n",
    "    print(type(i))"
   ]
  },
  {
   "cell_type": "code",
   "execution_count": null,
   "id": "1699f08e-4bdf-4777-8bd8-1d591942116e",
   "metadata": {},
   "outputs": [],
   "source": [
    "#Q5. Using a while loop, verify if the number A is purely divisible by number B and if so then how many\n",
    "# times it can be divisible."
   ]
  },
  {
   "cell_type": "code",
   "execution_count": 1,
   "id": "cbf3d3da-6475-4dc0-b069-75b5c641231e",
   "metadata": {},
   "outputs": [
    {
     "name": "stdin",
     "output_type": "stream",
     "text": [
      "enter the value for a: 12\n",
      "enter the value for b: 2\n"
     ]
    },
    {
     "name": "stdout",
     "output_type": "stream",
     "text": [
      "3.0 is divisible by 22 times\n"
     ]
    }
   ],
   "source": [
    "a=int(input(\"enter the value for a:\"))\n",
    "b=int(input(\"enter the value for b:\"))\n",
    "count=0\n",
    "while a%b==0:\n",
    "      a=a/b\n",
    "      count=count+1\n",
    "if(count>0):\n",
    "      print(f\"{a} is divisible by {b}{count} times\")\n",
    "else:\n",
    "      print(\"not divisible\")"
   ]
  },
  {
   "cell_type": "code",
   "execution_count": null,
   "id": "78e9e448-1118-4473-90b5-d5d38ccfe409",
   "metadata": {},
   "outputs": [],
   "source": []
  },
  {
   "cell_type": "code",
   "execution_count": null,
   "id": "772df5f9-f89e-49b5-aff8-d763550b080a",
   "metadata": {},
   "outputs": [],
   "source": [
    "# Q6. Create a list containing 25 int type data. Using for loop and if-else condition print if the element is\n",
    "# divisible by 3 or not.\n"
   ]
  },
  {
   "cell_type": "code",
   "execution_count": 4,
   "id": "7df19e0a-f7c9-4659-9b02-6962c63b12f3",
   "metadata": {},
   "outputs": [],
   "source": [
    "list1=[1,2,3,4,5,6,7,8,9,10,11,12,13,14,15,16,17,18,19,20,21,22,23,24,25]"
   ]
  },
  {
   "cell_type": "code",
   "execution_count": 7,
   "id": "c50d39eb-85c1-45ce-b71e-fc0ab1a67746",
   "metadata": {},
   "outputs": [],
   "source": [
    "l1=[]\n",
    "l2=[]\n",
    "for i in list1:\n",
    "    if i%3==0:\n",
    "        l1.append(i)\n",
    "    else:\n",
    "        l2.append(i)\n",
    "    l1    \n",
    "        \n",
    "        \n",
    "    \n",
    "    "
   ]
  },
  {
   "cell_type": "code",
   "execution_count": 8,
   "id": "9b3e5b82-2cea-4a78-acfe-a27b7b78aa2d",
   "metadata": {},
   "outputs": [
    {
     "data": {
      "text/plain": [
       "[3, 6, 9, 12, 15, 18, 21, 24]"
      ]
     },
     "execution_count": 8,
     "metadata": {},
     "output_type": "execute_result"
    }
   ],
   "source": [
    "l1"
   ]
  },
  {
   "cell_type": "code",
   "execution_count": 9,
   "id": "213631c4-1d98-4030-a825-838963c4ad96",
   "metadata": {},
   "outputs": [
    {
     "data": {
      "text/plain": [
       "[1, 2, 4, 5, 7, 8, 10, 11, 13, 14, 16, 17, 19, 20, 22, 23, 25]"
      ]
     },
     "execution_count": 9,
     "metadata": {},
     "output_type": "execute_result"
    }
   ],
   "source": [
    "l2"
   ]
  },
  {
   "cell_type": "code",
   "execution_count": null,
   "id": "8bc42f78-bf62-4def-8c9c-c73822ecb1fa",
   "metadata": {},
   "outputs": [],
   "source": []
  },
  {
   "cell_type": "code",
   "execution_count": 11,
   "id": "97c32206-241f-4ba5-8819-ca331eb46e21",
   "metadata": {},
   "outputs": [],
   "source": [
    "#q7What do you understand about mutable and immutable data types? Give examples for both showing\n",
    "# this property."
   ]
  },
  {
   "cell_type": "code",
   "execution_count": null,
   "id": "024defeb-5e5c-4c4d-bf96-efe45e8f1677",
   "metadata": {},
   "outputs": [],
   "source": [
    "mutable data type:=\n",
    "mutable means that allow you to change their value or data .\n",
    "ex:list are mutable \n",
    "\n",
    "\n",
    "immutable data type:=\n",
    "immutable means that doesnt allow us to make any chnges in data .\n",
    "ex:string are immutable"
   ]
  },
  {
   "cell_type": "code",
   "execution_count": null,
   "id": "9f344cd5-7a5b-4e33-a1d4-9d944befdd99",
   "metadata": {},
   "outputs": [],
   "source": [
    "suppose we take an example for mutable"
   ]
  },
  {
   "cell_type": "code",
   "execution_count": 12,
   "id": "5895df6e-c83a-4a46-a004-6e01de7abae1",
   "metadata": {},
   "outputs": [
    {
     "data": {
      "text/plain": [
       "[1, 3, 45, 67, 89]"
      ]
     },
     "execution_count": 12,
     "metadata": {},
     "output_type": "execute_result"
    }
   ],
   "source": [
    "list=[1,3,45,67,89]\n",
    "list"
   ]
  },
  {
   "cell_type": "code",
   "execution_count": 13,
   "id": "473e3745-419a-4bfa-8752-3b4214d7249c",
   "metadata": {},
   "outputs": [],
   "source": [
    "list[1]=90"
   ]
  },
  {
   "cell_type": "code",
   "execution_count": 15,
   "id": "bdf89661-ae16-41d9-b006-5e88def00e9f",
   "metadata": {},
   "outputs": [
    {
     "data": {
      "text/plain": [
       "[1, 90, 45, 67, 89]"
      ]
     },
     "execution_count": 15,
     "metadata": {},
     "output_type": "execute_result"
    }
   ],
   "source": [
    "list"
   ]
  },
  {
   "cell_type": "code",
   "execution_count": null,
   "id": "2568dab4-7941-428f-87a4-8c848400d515",
   "metadata": {},
   "outputs": [],
   "source": [
    "suppose take an example for immutable"
   ]
  },
  {
   "cell_type": "code",
   "execution_count": 16,
   "id": "191dd5e9-19a3-4ad6-8bb4-7c781b278f5a",
   "metadata": {},
   "outputs": [],
   "source": [
    "str=\"hello sir,how are you\""
   ]
  },
  {
   "cell_type": "code",
   "execution_count": 17,
   "id": "e181b419-17c4-49f0-9bb6-d6bee2b8ef6e",
   "metadata": {},
   "outputs": [
    {
     "data": {
      "text/plain": [
       "str"
      ]
     },
     "execution_count": 17,
     "metadata": {},
     "output_type": "execute_result"
    }
   ],
   "source": [
    "type(str)"
   ]
  },
  {
   "cell_type": "code",
   "execution_count": 20,
   "id": "23417cec-d440-49cb-9727-2523849b5400",
   "metadata": {},
   "outputs": [
    {
     "ename": "TypeError",
     "evalue": "'str' object does not support item assignment",
     "output_type": "error",
     "traceback": [
      "\u001b[0;31m---------------------------------------------------------------------------\u001b[0m",
      "\u001b[0;31mTypeError\u001b[0m                                 Traceback (most recent call last)",
      "Cell \u001b[0;32mIn[20], line 1\u001b[0m\n\u001b[0;32m----> 1\u001b[0m \u001b[38;5;28;43mstr\u001b[39;49m\u001b[43m[\u001b[49m\u001b[38;5;241;43m1\u001b[39;49m\u001b[43m]\u001b[49m\u001b[38;5;241m=\u001b[39m\u001b[38;5;124m\"\u001b[39m\u001b[38;5;124ml\u001b[39m\u001b[38;5;124m\"\u001b[39m\n",
      "\u001b[0;31mTypeError\u001b[0m: 'str' object does not support item assignment"
     ]
    }
   ],
   "source": [
    "str[1]=\"l\""
   ]
  },
  {
   "cell_type": "code",
   "execution_count": null,
   "id": "b264daac-e47a-4f68-ba75-d37ac85cbd8c",
   "metadata": {},
   "outputs": [],
   "source": [
    "here we can see that it throwing an error."
   ]
  }
 ],
 "metadata": {
  "kernelspec": {
   "display_name": "Python 3 (ipykernel)",
   "language": "python",
   "name": "python3"
  },
  "language_info": {
   "codemirror_mode": {
    "name": "ipython",
    "version": 3
   },
   "file_extension": ".py",
   "mimetype": "text/x-python",
   "name": "python",
   "nbconvert_exporter": "python",
   "pygments_lexer": "ipython3",
   "version": "3.10.8"
  }
 },
 "nbformat": 4,
 "nbformat_minor": 5
}
